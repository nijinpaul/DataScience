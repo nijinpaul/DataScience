{
  "nbformat": 4,
  "nbformat_minor": 0,
  "metadata": {
    "colab": {
      "name": "testprogram.ipynb",
      "provenance": [],
      "authorship_tag": "ABX9TyP4dizqyUQC7e8KlyXN/kFj",
      "include_colab_link": true
    },
    "kernelspec": {
      "name": "python3",
      "display_name": "Python 3"
    },
    "language_info": {
      "name": "python"
    }
  },
  "cells": [
    {
      "cell_type": "markdown",
      "metadata": {
        "id": "view-in-github",
        "colab_type": "text"
      },
      "source": [
        "<a href=\"https://colab.research.google.com/github/nijinpaul/DataScience/blob/main/testprogram.ipynb\" target=\"_parent\"><img src=\"https://colab.research.google.com/assets/colab-badge.svg\" alt=\"Open In Colab\"/></a>"
      ]
    },
    {
      "cell_type": "code",
      "execution_count": null,
      "metadata": {
        "id": "ulAUi0PMlZEb"
      },
      "outputs": [],
      "source": [
        "x=3"
      ]
    },
    {
      "cell_type": "code",
      "source": [
        "y=5"
      ],
      "metadata": {
        "id": "qJms0KnKmHMT"
      },
      "execution_count": null,
      "outputs": []
    },
    {
      "cell_type": "code",
      "source": [
        "z=x+y"
      ],
      "metadata": {
        "id": "IY6QMtKCmIdb"
      },
      "execution_count": null,
      "outputs": []
    },
    {
      "cell_type": "code",
      "source": [
        "print(z)"
      ],
      "metadata": {
        "colab": {
          "base_uri": "https://localhost:8080/"
        },
        "id": "tv4xPmfmmLFB",
        "outputId": "41faefb2-f8d2-48ae-a86b-bd6e5eece6be"
      },
      "execution_count": null,
      "outputs": [
        {
          "output_type": "stream",
          "name": "stdout",
          "text": [
            "8\n"
          ]
        }
      ]
    },
    {
      "cell_type": "code",
      "source": [
        "def sum(x,y):\n",
        "    return x+y\n",
        "def sub(x,y):\n",
        "    return x-y\n",
        "def mul(x,y):\n",
        "    return x*y\n",
        "def div(x,y):\n",
        "    return x/y\n",
        "while(1):\n",
        "\n",
        "  print(\"Enter which operation you want to perform\")\n",
        "  a= input(\"\\n 1. Addition \\n 2.Subtraction \\n 3. Multiplication \\n 4. Division\")\n",
        "  if a in('1','2','3','4'):\n",
        "  \n",
        "    \n",
        "        x= int(input(\"Enter the first numnber\"))\n",
        "        y= int(input(\"Enter the second numnber\"))\n",
        "        if a=='1':\n",
        "        \n",
        "            print(\"sum is. ;\" ,sum(x,y))\n",
        "        \n",
        "        if a=='2':\n",
        "        \n",
        "            Print(\"Difference is : \",sub(x,y))\n",
        "        \n",
        "        if a=='3':\n",
        "        \n",
        "           print(\" Multiple is : \" ,mul(x,y))\n",
        "        \n",
        "        if a=='4':\n",
        "        \n",
        "            print(\" Division is : \" ,div(x,y))\n",
        "        \n",
        "     \n",
        "  print(\"wrong entry\")\n",
        "  break\n",
        "\n"
      ],
      "metadata": {
        "colab": {
          "base_uri": "https://localhost:8080/"
        },
        "id": "osluAGDxpEGf",
        "outputId": "080e35bc-c7bf-4cea-eaa6-99c5bf841a6a"
      },
      "execution_count": 11,
      "outputs": [
        {
          "output_type": "stream",
          "name": "stdout",
          "text": [
            "Enter which operation you want to perform\n",
            "\n",
            " 1. Addition \n",
            " 2.Subtraction \n",
            " 3. Multiplication \n",
            " 4. Division2\n",
            "wrong entry\n"
          ]
        }
      ]
    }
  ]
}